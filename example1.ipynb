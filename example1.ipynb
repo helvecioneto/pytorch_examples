{
 "cells": [
  {
   "cell_type": "code",
   "execution_count": 1,
   "metadata": {},
   "outputs": [
    {
     "name": "stdout",
     "output_type": "stream",
     "text": [
      "PyTorch foi compilado com suporte a CUDA?  True\n",
      "Número de GPUs disponíveis:  1\n",
      "Nome da GPU:  NVIDIA GeForce GTX 1060 5GB\n"
     ]
    }
   ],
   "source": [
    "import torch\n",
    "\n",
    "# Verifica se o PyTorch foi compilado com suporte a CUDA (GPU)\n",
    "print(\"PyTorch foi compilado com suporte a CUDA? \", torch.cuda.is_available())\n",
    "\n",
    "# Obtém o número de GPUs disponíveis no sistema\n",
    "print(\"Número de GPUs disponíveis: \", torch.cuda.device_count())\n",
    "\n",
    "# Obtém o nome da GPU atual, caso haja uma GPU disponível\n",
    "if torch.cuda.is_available():\n",
    "    print(\"Nome da GPU: \", torch.cuda.get_device_name(0))  # 0 representa o índice da GPU, se houver várias GPUs\n"
   ]
  },
  {
   "cell_type": "code",
   "execution_count": null,
   "metadata": {},
   "outputs": [],
   "source": []
  }
 ],
 "metadata": {
  "kernelspec": {
   "display_name": "pytorch",
   "language": "python",
   "name": "python3"
  },
  "language_info": {
   "codemirror_mode": {
    "name": "ipython",
    "version": 3
   },
   "file_extension": ".py",
   "mimetype": "text/x-python",
   "name": "python",
   "nbconvert_exporter": "python",
   "pygments_lexer": "ipython3",
   "version": "3.10.12"
  },
  "orig_nbformat": 4
 },
 "nbformat": 4,
 "nbformat_minor": 2
}
